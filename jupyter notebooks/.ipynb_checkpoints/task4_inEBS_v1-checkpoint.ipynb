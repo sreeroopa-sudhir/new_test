{
 "cells": [
  {
   "cell_type": "code",
   "execution_count": 8,
   "metadata": {},
   "outputs": [],
   "source": [
    "from pymongo import MongoClient\n",
    "import pprint\n",
    "from IPython.display import clear_output"
   ]
  },
  {
   "cell_type": "code",
   "execution_count": 9,
   "metadata": {},
   "outputs": [],
   "source": [
    "client = MongoClient(\"mongodb://localhost:27017/practice_work\")"
   ]
  },
  {
   "cell_type": "code",
   "execution_count": 12,
   "metadata": {},
   "outputs": [
    {
     "name": "stdout",
     "output_type": "stream",
     "text": [
      "[{'_id': 'OPEN', 'count': 254},\n",
      " {'_id': 'EARLY', 'count': 180},\n",
      " {'_id': 'NO_SORTATION', 'count': 40},\n",
      " {'_id': 'UNKNOWN', 'count': 20},\n",
      " {'_id': 'TOO_LATE', 'count': 6}]\n",
      "[{'_id': 1, 'count': 116}]\n"
     ]
    }
   ],
   "source": [
    "# KPI #4 No. of Bags that are in the EBS\n",
    "\n",
    "#for testing purposes only\n",
    "pipeline1 = [\n",
    "    {\n",
    "        '$sortByCount' : \"$BAGSTATUS\"\n",
    "    }\n",
    "  \n",
    "]\n",
    "\n",
    "#first half\n",
    "#No. of Bags that are EARLY in System\n",
    "pipeline2 = [\n",
    "    {\n",
    "        '$match' : { 'BAGSTATUS' : \"EARLY\" }  \n",
    "    },\n",
    "    {\n",
    "        '$group': {  '_id': '$BAGTAGID'}\n",
    "    },\n",
    "    {\n",
    "        '$group': {\n",
    "                  '_id': 1,\n",
    "                  'count': {  '$sum': 1 }\n",
    "                }\n",
    "    }\n",
    "]\n",
    "\n",
    "#print output of specified pipeline applied to practice_lbt\n",
    "pprint.pprint(list(client.practice_work.practice_lbt.aggregate(pipeline1)))\n",
    "pprint.pprint(list(client.practice_work.practice_lbt.aggregate(pipeline2)))"
   ]
  },
  {
   "cell_type": "code",
   "execution_count": null,
   "metadata": {},
   "outputs": [],
   "source": []
  }
 ],
 "metadata": {
  "kernelspec": {
   "display_name": "Python 3",
   "language": "python",
   "name": "python3"
  },
  "language_info": {
   "codemirror_mode": {
    "name": "ipython",
    "version": 3
   },
   "file_extension": ".py",
   "mimetype": "text/x-python",
   "name": "python",
   "nbconvert_exporter": "python",
   "pygments_lexer": "ipython3",
   "version": "3.6.4"
  }
 },
 "nbformat": 4,
 "nbformat_minor": 2
}
