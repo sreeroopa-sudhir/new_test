{
 "cells": [
  {
   "cell_type": "code",
   "execution_count": 1,
   "metadata": {},
   "outputs": [],
   "source": [
    "from pymongo import MongoClient\n",
    "import pprint\n",
    "from IPython.display import clear_output"
   ]
  },
  {
   "cell_type": "code",
   "execution_count": 2,
   "metadata": {},
   "outputs": [],
   "source": [
    "client = MongoClient(\"mongodb://localhost:27017/practice_work\")"
   ]
  },
  {
   "cell_type": "code",
   "execution_count": 3,
   "metadata": {},
   "outputs": [
    {
     "name": "stdout",
     "output_type": "stream",
     "text": [
      "[]\n"
     ]
    }
   ],
   "source": [
    "# To add UID field to each document, \n",
    "# as a concatenated string of GID + bagTagID + FLIGHTNum + FLIGHTDateTime.\n",
    "\n",
    "#using global id (bag id), bagtag id, flight number and flight date/time.\n",
    "\n",
    "#currently code is with just global id and bagtag id.\n",
    "#to change to just bag tag id, flight nuumber and flight date/time.\n",
    "\n",
    "\n",
    "pipeline = [\n",
    "   # {\n",
    "    #    '$limit': 2\n",
    "   # },\n",
    "    {\n",
    "        '$addFields': {\n",
    "            'UID': {\n",
    "                '$concat': [\n",
    "                    { \"$substr\": [ \"$BAG_ID\", 0, -1 ] }, { \"$substr\": [ \"$BAGTAGID\", 0, -1 ] } \n",
    "                            ]\n",
    "                    }\n",
    "                        }\n",
    "    },\n",
    "    {\n",
    "        '$project': {\n",
    "            'EVENTTIME': 1,\n",
    "            'BAGTAGID': 1,\n",
    "            'BAG_ID': 1,\n",
    "            'STATUS': 1,\n",
    "            'BAGSTATUS': 1,\n",
    "            'BAGPROFILE': 1,\n",
    "            'HBSSTATUS': 1,\n",
    "            'HBSCURLEVEL': 1,\n",
    "            'HBSRESULT': 1,\n",
    "            'CUSTSTATUS': 1,\n",
    "            'BSM_ID': 1,\n",
    "            'TTR_ID': 1,\n",
    "            'TDP_IDFINAL': 1,\n",
    "            'TDP_IDCURR': 1,\n",
    "            'TDP_IDOPER': 1,\n",
    "            'TNP_IDFIRSTPOS': 1,\n",
    "            'TNP_IDLASTPOS': 1,\n",
    "            'FIRSTPOSTIME': 1,\n",
    "            'LASTPOSTIME': 1,\n",
    "            'EXPIRATIONTIME': 1,\n",
    "            'SECTODEST': 1,\n",
    "            'REASON': 1,\n",
    "            'STORINGREASON': 1,\n",
    "            'ISNPBASEDHBSSTATUS': 1,\n",
    "            'ISPROCESSED': 1,\n",
    "            'UID': 1,\n",
    "            \n",
    "                  } #closing project method\n",
    "    },\n",
    "    {\n",
    "        '$out': \"practice_lbt2\"\n",
    "    }\n",
    "]\n",
    "\n",
    "\n",
    "\n",
    "pprint.pprint(list(client.practice_work.practice_lbt.aggregate(pipeline)))"
   ]
  },
  {
   "cell_type": "code",
   "execution_count": null,
   "metadata": {},
   "outputs": [],
   "source": []
  },
  {
   "cell_type": "code",
   "execution_count": null,
   "metadata": {},
   "outputs": [],
   "source": []
  },
  {
   "cell_type": "code",
   "execution_count": null,
   "metadata": {},
   "outputs": [],
   "source": []
  },
  {
   "cell_type": "code",
   "execution_count": null,
   "metadata": {},
   "outputs": [],
   "source": []
  },
  {
   "cell_type": "code",
   "execution_count": null,
   "metadata": {},
   "outputs": [],
   "source": []
  }
 ],
 "metadata": {
  "kernelspec": {
   "display_name": "Python 3",
   "language": "python",
   "name": "python3"
  },
  "language_info": {
   "codemirror_mode": {
    "name": "ipython",
    "version": 3
   },
   "file_extension": ".py",
   "mimetype": "text/x-python",
   "name": "python",
   "nbconvert_exporter": "python",
   "pygments_lexer": "ipython3",
   "version": "3.6.4"
  }
 },
 "nbformat": 4,
 "nbformat_minor": 2
}
