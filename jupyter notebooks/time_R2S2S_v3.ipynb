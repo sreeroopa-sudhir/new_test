{
 "cells": [
  {
   "cell_type": "code",
   "execution_count": 25,
   "metadata": {},
   "outputs": [],
   "source": [
    "from datetime import date, datetime\n",
    "import time\n",
    "timeRaw1 = \"27-MAR-18 11.30.11.000000000 PM\"\n",
    "timeRaw2 = \"01-APR-18 09.20.07.000000000 AM\""
   ]
  },
  {
   "cell_type": "code",
   "execution_count": 26,
   "metadata": {},
   "outputs": [
    {
     "name": "stdout",
     "output_type": "stream",
     "text": [
      "380996.0\n"
     ]
    }
   ],
   "source": [
    "date_string1 = timeRaw1[:18] + timeRaw1[-2:]\n",
    "date_string2 = timeRaw2[:18] + timeRaw2[-2:]\n",
    "a = datetime.strptime(date_string1, \"%d-%b-%y %I.%M.%S%p\")\n",
    "b = datetime.strptime(date_string2, \"%d-%b-%y %I.%M.%S%p\")\n",
    "tts = (b-a).total_seconds()\n",
    "print(tts)"
   ]
  },
  {
   "cell_type": "code",
   "execution_count": null,
   "metadata": {},
   "outputs": [],
   "source": []
  }
 ],
 "metadata": {
  "kernelspec": {
   "display_name": "Python 3",
   "language": "python",
   "name": "python3"
  },
  "language_info": {
   "codemirror_mode": {
    "name": "ipython",
    "version": 3
   },
   "file_extension": ".py",
   "mimetype": "text/x-python",
   "name": "python",
   "nbconvert_exporter": "python",
   "pygments_lexer": "ipython3",
   "version": "3.6.4"
  }
 },
 "nbformat": 4,
 "nbformat_minor": 2
}
