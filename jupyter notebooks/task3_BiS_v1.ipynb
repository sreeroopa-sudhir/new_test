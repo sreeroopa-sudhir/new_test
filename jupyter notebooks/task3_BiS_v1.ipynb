{
 "cells": [
  {
   "cell_type": "code",
   "execution_count": 50,
   "metadata": {},
   "outputs": [],
   "source": [
    "from pymongo import MongoClient\n",
    "import pprint\n",
    "from IPython.display import clear_output"
   ]
  },
  {
   "cell_type": "code",
   "execution_count": 51,
   "metadata": {},
   "outputs": [],
   "source": [
    "client = MongoClient(\"mongodb://localhost:27017/dbOps_18_04_17\")"
   ]
  },
  {
   "cell_type": "code",
   "execution_count": 53,
   "metadata": {},
   "outputs": [
    {
     "name": "stdout",
     "output_type": "stream",
     "text": [
      "364365\n"
     ]
    }
   ],
   "source": [
    "# KPI #3 Bags in System\n",
    "\n",
    "#includes duplicates.\n",
    "#Grouping by status, counts the number of documents. This can include duplicate BAG_IDs.\n",
    "pipeline1 = [\n",
    "    {\n",
    "        '$sortByCount' : \"$STATUS\"\n",
    "    }\n",
    "  \n",
    "]\n",
    "\n",
    "#Use this one!\n",
    "#For specified status, counts the number of documents with unique BAG_ID, i.e. counts the number of bags ()\n",
    "pipeline2 = [\n",
    "    {\n",
    "        '$match' : { 'STATUS' : \"TRA\" }  \n",
    "    },\n",
    "    {\n",
    "        '$group': {\n",
    "                  '_id': '$BAGTAGID',\n",
    "                  'count': {  '$sum': 1 }\n",
    "                }\n",
    "    }\n",
    "    \n",
    "]\n",
    "\n",
    "#print output of specified pipeline applied to practice_lbt\n",
    "pprint.pprint(len(list(client.dbOps_18_04_17.lbt.aggregate(pipeline2))))"
   ]
  },
  {
   "cell_type": "code",
   "execution_count": null,
   "metadata": {},
   "outputs": [],
   "source": []
  }
 ],
 "metadata": {
  "kernelspec": {
   "display_name": "Python 3",
   "language": "python",
   "name": "python3"
  },
  "language_info": {
   "codemirror_mode": {
    "name": "ipython",
    "version": 3
   },
   "file_extension": ".py",
   "mimetype": "text/x-python",
   "name": "python",
   "nbconvert_exporter": "python",
   "pygments_lexer": "ipython3",
   "version": "3.6.4"
  }
 },
 "nbformat": 4,
 "nbformat_minor": 2
}
